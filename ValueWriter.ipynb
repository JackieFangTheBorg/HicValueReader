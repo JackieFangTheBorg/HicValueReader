{
 "cells": [
  {
   "cell_type": "code",
   "execution_count": 1,
   "metadata": {
    "collapsed": false
   },
   "outputs": [],
   "source": [
    "import glob\n",
    "import numpy as np\n",
    "import pandas as pd"
   ]
  },
  {
   "cell_type": "code",
   "execution_count": 2,
   "metadata": {
    "collapsed": true
   },
   "outputs": [],
   "source": [
    "path='E:\\\\JLD\\\\Desktop\\\\py_workspace\\\\txtreader\\\\key'"
   ]
  },
  {
   "cell_type": "code",
   "execution_count": 3,
   "metadata": {
    "collapsed": true
   },
   "outputs": [],
   "source": [
    "def lingrid_cnm(Node1,Node2,N):\n",
    "    coordinate = []\n",
    "    X=np.linspace(Node1[0],Node2[0],N)\n",
    "    Y=np.linspace(Node1[1],Node2[1],N)\n",
    "    for index in range(N):\n",
    "        coordinate.append([X[index],Y[index]])\n",
    "    return coordinate"
   ]
  },
  {
   "cell_type": "code",
   "execution_count": 4,
   "metadata": {
    "collapsed": false
   },
   "outputs": [
    {
     "name": "stdout",
     "output_type": "stream",
     "text": [
      "[[ -125.177       1081.44      ]\n",
      " [ -154.03283333  1183.37116667]\n",
      " [ -182.88866667  1285.30233333]\n",
      " [ -211.7445      1387.2335    ]\n",
      " [ -240.60033333  1489.16466667]\n",
      " [ -269.45616667  1591.09583333]\n",
      " [ -298.312       1693.027     ]]\n"
     ]
    }
   ],
   "source": [
    "N1 = [-125.177,1081.440]\n",
    "N2 = [-298.312,1693.027]\n",
    "n = 6\n",
    "c = lingrid_cnm(N1,N2,n)\n",
    "print(np.array(c))"
   ]
  },
  {
   "cell_type": "code",
   "execution_count": 5,
   "metadata": {
    "collapsed": true
   },
   "outputs": [],
   "source": [
    "def listcreat(Linput):\n",
    "    length = len(Linput)\n",
    "    for index in range(length):\n",
    "        Linput[index] = str(Linput[index])\n",
    "    Loutput = ' '.join(Linput)\n",
    "    return Loutput"
   ]
  },
  {
   "cell_type": "code",
   "execution_count": 6,
   "metadata": {
    "collapsed": false
   },
   "outputs": [],
   "source": [
    "count = 0\n",
    "for key in glob.glob(path+'\\\\'+'\\*.key'):\n",
    "    inputfile=open(key,'r')\n",
    "    lines = inputfile.readlines()\n",
    "    inputfile.close()\n",
    "    outputfile=open(key,'w')\n",
    "    wordlist = lines[6].split(' ')\n",
    "    l = len(wordlist)\n",
    "    cindex = 0\n",
    "    for index in range(1,l):\n",
    "        if wordlist[index] != '':\n",
    "            temp = round(c[count][cindex])\n",
    "            wordlist[index] = temp\n",
    "            cindex += 1\n",
    "        if cindex == 2:\n",
    "            break\n",
    "    lines[6] = listcreat(wordlist)\n",
    "    for line in lines:\n",
    "        outputfile.write(line)\n",
    "    outputfile.close()\n",
    "    count += 1"
   ]
  }
 ],
 "metadata": {
  "anaconda-cloud": {},
  "kernelspec": {
   "display_name": "Python [conda root]",
   "language": "python",
   "name": "conda-root-py"
  },
  "language_info": {
   "codemirror_mode": {
    "name": "ipython",
    "version": 3
   },
   "file_extension": ".py",
   "mimetype": "text/x-python",
   "name": "python",
   "nbconvert_exporter": "python",
   "pygments_lexer": "ipython3",
   "version": "3.5.2"
  }
 },
 "nbformat": 4,
 "nbformat_minor": 1
}
